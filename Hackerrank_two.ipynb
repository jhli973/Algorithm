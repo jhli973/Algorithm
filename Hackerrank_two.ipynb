{
 "cells": [
  {
   "cell_type": "markdown",
   "metadata": {},
   "source": [
    "## [Day of the Programmer](https://www.hackerrank.com/challenges/day-of-the-programmer)"
   ]
  },
  {
   "cell_type": "code",
   "execution_count": 5,
   "metadata": {
    "collapsed": false
   },
   "outputs": [],
   "source": [
    "def solve(year):\n",
    "    # Complete this function\n",
    "    day = 0\n",
    "    if year <= 1917 :\n",
    "        if year % 4 == 0:\n",
    "            day = 256 - 244\n",
    "        else:\n",
    "            day = 256 - 243\n",
    "    elif year == 1918:\n",
    "        day = 256 - 243 + 13\n",
    "    else:\n",
    "        if year % 400 == 0:\n",
    "            day = 256 - 244\n",
    "        elif year % 4 == 0 and year % 100 != 0:\n",
    "            day = 256 - 244\n",
    "        else:\n",
    "            day = 256 - 243\n",
    "    return str(day)+'.09'+str(year)"
   ]
  },
  {
   "cell_type": "markdown",
   "metadata": {},
   "source": [
    "## [Counting Valleys](https://www.hackerrank.com/challenges/counting-valleys?h_r=next-challenge&h_v=zen)"
   ]
  },
  {
   "cell_type": "code",
   "execution_count": 6,
   "metadata": {
    "collapsed": false
   },
   "outputs": [
    {
     "name": "stdout",
     "output_type": "stream",
     "text": [
      "4\n",
      "UDDD\n",
      "1\n"
     ]
    }
   ],
   "source": [
    "N=int(input())\n",
    "S=input()\n",
    "\n",
    "curr_val = 0\n",
    "pre_val = 0\n",
    "num_valley = 0\n",
    "for s in S:\n",
    "\n",
    "    if s == 'U':\n",
    "        curr_val += 1\n",
    "    else:\n",
    "        curr_val -= 1\n",
    "    \n",
    "    if curr_val < 0 and pre_val == 0:\n",
    "        num_valley += 1\n",
    "    pre_val = curr_val\n",
    "\n",
    "print(num_valley)"
   ]
  },
  {
   "cell_type": "markdown",
   "metadata": {},
   "source": [
    "## [Electronics Shop](https://www.hackerrank.com/challenges/electronics-shop?h_r=next-challenge&h_v=zen)"
   ]
  },
  {
   "cell_type": "code",
   "execution_count": 7,
   "metadata": {
    "collapsed": true
   },
   "outputs": [],
   "source": [
    "def getMoneySpent(keyboards, drives, s):\n",
    "    # Complete this function\n",
    "    max_spend = -1\n",
    "    for k in keyboards:\n",
    "        for d in drives:\n",
    "            p = k + d\n",
    "            if s >= p and max_spend < p:\n",
    "                max_spend = p\n",
    "    return max_spend   \n",
    "            "
   ]
  },
  {
   "cell_type": "markdown",
   "metadata": {},
   "source": [
    "## [Cats and a Mouse](https://www.hackerrank.com/challenges/cats-and-a-mouse)"
   ]
  },
  {
   "cell_type": "code",
   "execution_count": 8,
   "metadata": {
    "collapsed": false
   },
   "outputs": [
    {
     "name": "stdout",
     "output_type": "stream",
     "text": [
      "3\n",
      "1 2 3\n",
      "Cat B\n",
      "1 3 2\n",
      "Mouse C\n",
      "2 1 3\n",
      "Cat A\n"
     ]
    }
   ],
   "source": [
    "q = int(input().strip())\n",
    "for a0 in range(q):\n",
    "    x,y,z = input().strip().split(' ')\n",
    "    x,y,z = [int(x),int(y),int(z)]\n",
    "    \n",
    "    if abs(x-z) > abs(y-z):\n",
    "        print('Cat B')\n",
    "    elif abs(x-z) < abs(y-z):  \n",
    "        print('Cat A')\n",
    "    else:\n",
    "        print('Mouse C')"
   ]
  },
  {
   "cell_type": "markdown",
   "metadata": {},
   "source": [
    "## [Forming a Magic Square](https://www.hackerrank.com/challenges/magic-square-forming?h_r=next-challenge&h_v=zen)"
   ]
  },
  {
   "cell_type": "code",
   "execution_count": 9,
   "metadata": {
    "collapsed": false
   },
   "outputs": [
    {
     "data": {
      "text/plain": [
       "[1, 2, 3, 4]"
      ]
     },
     "execution_count": 9,
     "metadata": {},
     "output_type": "execute_result"
    }
   ],
   "source": [
    "a = [1,2,3,4]\n",
    "a"
   ]
  },
  {
   "cell_type": "code",
   "execution_count": 14,
   "metadata": {
    "collapsed": false
   },
   "outputs": [
    {
     "data": {
      "text/plain": [
       "[3, 4, 1, 2]"
      ]
     },
     "execution_count": 14,
     "metadata": {},
     "output_type": "execute_result"
    }
   ],
   "source": [
    "a[2:] + (a[:2])"
   ]
  },
  {
   "cell_type": "code",
   "execution_count": 12,
   "metadata": {
    "collapsed": false
   },
   "outputs": [
    {
     "data": {
      "text/plain": [
       "[3, 4]"
      ]
     },
     "execution_count": 12,
     "metadata": {},
     "output_type": "execute_result"
    }
   ],
   "source": [
    "a[2:]"
   ]
  },
  {
   "cell_type": "code",
   "execution_count": 17,
   "metadata": {
    "collapsed": false
   },
   "outputs": [
    {
     "name": "stdout",
     "output_type": "stream",
     "text": [
      "None\n"
     ]
    }
   ],
   "source": [
    "print(a[:2].extend([2,3]))"
   ]
  },
  {
   "cell_type": "code",
   "execution_count": null,
   "metadata": {
    "collapsed": true
   },
   "outputs": [],
   "source": []
  }
 ],
 "metadata": {
  "kernelspec": {
   "display_name": "Python 3",
   "language": "python",
   "name": "python3"
  },
  "language_info": {
   "codemirror_mode": {
    "name": "ipython",
    "version": 3
   },
   "file_extension": ".py",
   "mimetype": "text/x-python",
   "name": "python",
   "nbconvert_exporter": "python",
   "pygments_lexer": "ipython3",
   "version": "3.6.0"
  }
 },
 "nbformat": 4,
 "nbformat_minor": 2
}

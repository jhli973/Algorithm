{
 "cells": [
  {
   "cell_type": "markdown",
   "metadata": {},
   "source": [
    "### Disclaimer: \n",
    "\n",
    "- All algorithm problems are from Hackerrank \n",
    "- The solutions provided by me might not be the best. "
   ]
  },
  {
   "cell_type": "markdown",
   "metadata": {},
   "source": [
    "## [Sock Merchant ](https://www.hackerrank.com/challenges/sock-merchant?utm_campaign=challenge-recommendation&utm_medium=email&utm_source=24-hour-campaign)"
   ]
  },
  {
   "cell_type": "code",
   "execution_count": 5,
   "metadata": {
    "collapsed": false
   },
   "outputs": [
    {
     "name": "stdout",
     "output_type": "stream",
     "text": [
      "5\n",
      "4 5 2 3 7\n",
      "0\n"
     ]
    }
   ],
   "source": [
    "import sys\n",
    "\n",
    "def sockMerchant(n, ar):\n",
    "    # Complete this function\n",
    "    result = 0\n",
    "    ar_set = set(ar)\n",
    "    \n",
    "    for item in ar_set:\n",
    "        cnt = 0\n",
    "        for i in range(n):\n",
    "            if ar[i] == item:\n",
    "                cnt += 1\n",
    "        result += cnt // 2\n",
    "    return result\n",
    "\n",
    "n = int(input().strip())\n",
    "ar = list(map(int, input().strip().split(' ')))\n",
    "result = sockMerchant(n, ar)\n",
    "print(result)"
   ]
  },
  {
   "cell_type": "markdown",
   "metadata": {},
   "source": [
    "# [Grading Students](https://www.hackerrank.com/challenges/grading)"
   ]
  },
  {
   "cell_type": "code",
   "execution_count": 7,
   "metadata": {
    "collapsed": false
   },
   "outputs": [
    {
     "name": "stdout",
     "output_type": "stream",
     "text": [
      "5\n",
      "4\n",
      "5\n",
      "7\n",
      "8\n",
      "3\n",
      "4\n",
      "5\n",
      "7\n",
      "8\n",
      "3\n"
     ]
    }
   ],
   "source": [
    "#!/bin/python3\n",
    "\n",
    "import sys\n",
    "\n",
    "def solve(grades):\n",
    "    # Complete this function\n",
    "    for i in range(len(grades)):\n",
    "        if grades[i] < 38:\n",
    "            continue\n",
    "        else:\n",
    "            if 5 - (grades[i] % 5) < 3:\n",
    "                old_grade = grades[i]\n",
    "                grades[i] = old_grade + 5 - (old_grade % 5)\n",
    "            else:\n",
    "                continue\n",
    "    return grades\n",
    "n = int(input().strip())\n",
    "grades = []\n",
    "grades_i = 0\n",
    "for grades_i in range(n):\n",
    "   grades_t = int(input().strip())\n",
    "   grades.append(grades_t)\n",
    "result = solve(grades)\n",
    "print (\"\\n\".join(map(str, result)))"
   ]
  },
  {
   "cell_type": "markdown",
   "metadata": {},
   "source": [
    "## [Breaking the Records](https://www.hackerrank.com/challenges/breaking-best-and-worst-records?h_r=next-challenge&h_v=zen)"
   ]
  },
  {
   "cell_type": "code",
   "execution_count": null,
   "metadata": {
    "collapsed": true
   },
   "outputs": [],
   "source": [
    "#!/bin/python3\n",
    "\n",
    "import sys\n",
    "\n",
    "def getRecord(s):\n",
    "    # Complete this function\n",
    "    max_s = None\n",
    "    min_s = None\n",
    "    max_breaks = 0\n",
    "    min_breaks = 0\n",
    "    for num in s:\n",
    "        \n",
    "        if max_s is None :\n",
    "            max_s = num\n",
    "        elif num > max_s:\n",
    "            max_s = num\n",
    "            max_breaks += 1\n",
    "\n",
    "        if min_s is None:\n",
    "            min_s = num\n",
    "        elif num < min_s:\n",
    "            min_s = num\n",
    "            min_breaks += 1\n",
    "    return max_breaks, min_breaks\n",
    "\n",
    "n = int(input().strip())\n",
    "s = list(map(int, input().strip().split(' ')))\n",
    "result = getRecord(s)\n",
    "print (\" \".join(map(str, result)))"
   ]
  },
  {
   "cell_type": "markdown",
   "metadata": {
    "collapsed": true
   },
   "source": [
    "## [Birthday Chocolate](https://www.hackerrank.com/challenges/the-birthday-bar)"
   ]
  },
  {
   "cell_type": "code",
   "execution_count": null,
   "metadata": {
    "collapsed": false
   },
   "outputs": [],
   "source": [
    "import sys\n",
    "\n",
    "def solve(n, s, d, m):\n",
    "    # Complete this function\n",
    "    cnt = 0\n",
    "    for i in range(n):\n",
    "        if i+m <= n and sum(s[i:i+m] ) == d:\n",
    "            cnt += 1\n",
    "    return cnt\n",
    "n = int(input().strip())\n",
    "s = list(map(int, input().strip().split(' ')))\n",
    "d, m = input().strip().split(' ')\n",
    "d, m = [int(d), int(m)]\n",
    "result = solve(n, s, d, m)\n",
    "print(result)"
   ]
  },
  {
   "cell_type": "markdown",
   "metadata": {
    "collapsed": true
   },
   "source": [
    "## [Migratory Birds](https://www.hackerrank.com/challenges/migratory-birds)"
   ]
  },
  {
   "cell_type": "code",
   "execution_count": null,
   "metadata": {
    "collapsed": false
   },
   "outputs": [],
   "source": [
    "#!/bin/python3\n",
    "\n",
    "import sys\n",
    "\n",
    "def migratoryBirds(n, ar):\n",
    "    # Complete this function\n",
    "    dict = {}\n",
    "    for num in ar:\n",
    "        if num in dict.keys():\n",
    "            dict[num] += 1\n",
    "        else:\n",
    "            dict[num] = 1\n",
    "    return [(k, dict[k]) for k in sorted(dict, key=dict.get, reverse=True)][0][0]      \n",
    "        \n",
    " \n",
    "n = int(input().strip())\n",
    "ar = list(map(int, input().strip().split(' ')))\n",
    "result = migratoryBirds(n, ar)\n",
    "print(result) "
   ]
  },
  {
   "cell_type": "markdown",
   "metadata": {
    "collapsed": true
   },
   "source": [
    "## [Bon Appetit](https://www.hackerrank.com/challenges/bon-appetit)"
   ]
  },
  {
   "cell_type": "code",
   "execution_count": null,
   "metadata": {
    "collapsed": true
   },
   "outputs": [],
   "source": [
    "import sys\n",
    "\n",
    "def bonAppetit(n, k, b, ar):\n",
    "    if b == (sum(ar) - ar[k])//2:\n",
    "        return 'Bon Appetit'\n",
    "    else:\n",
    "        return (b - (sum(ar) - ar[k])//2)\n",
    "        \n",
    "   \n",
    "n, k = input().strip().split(' ')    \n",
    "n, k = [int(n), int(k)]\n",
    "\n",
    "ar = list(map(int, input.strip().split(' ')))\n",
    "b = int(input().strip())\n",
    "\n",
    "result = bonAppetit(n, k, b, ar)\n",
    "print(result)"
   ]
  },
  {
   "cell_type": "markdown",
   "metadata": {},
   "source": [
    "## [Drawing Book](https://www.hackerrank.com/challenges/drawing-book?h_r=next-challenge&h_v=zen)"
   ]
  },
  {
   "cell_type": "code",
   "execution_count": null,
   "metadata": {
    "collapsed": false
   },
   "outputs": [],
   "source": [
    "#!/bin/python3\n",
    "\n",
    "import sys\n",
    "\n",
    "def solve(n, p):\n",
    "    # Complete this function\n",
    "    # a simple version: return min(p//2, (n//2 - p//2))\n",
    "    if n - p >= p:\n",
    "        return p//2\n",
    "    else:\n",
    "        if n % 2 == 0:\n",
    "            return (n-p + 1) // 2\n",
    "        else:\n",
    "            return  (n-p) // 2\n",
    "\n",
    "n = int(input().strip())\n",
    "p = int(input().strip())\n",
    "result = solve(n, p)\n",
    "print(result)"
   ]
  },
  {
   "cell_type": "markdown",
   "metadata": {
    "collapsed": true
   },
   "source": [
    "## [The Power Sum](https://www.hackerrank.com/challenges/the-power-sum?utm_campaign=challenge-recommendation&utm_medium=email&utm_source=24-hour-campaign)"
   ]
  },
  {
   "cell_type": "code",
   "execution_count": null,
   "metadata": {
    "collapsed": true
   },
   "outputs": [],
   "source": [
    "def powerSum(x, n):\n",
    "    \n",
    "    for i in range(1, n+1):\n",
    "        print i\n",
    "\n",
    "x = int(input().strip())\n",
    "n = int(input().strip())\n",
    "result = powerSum(x, n)\n",
    "print(result)"
   ]
  },
  {
   "cell_type": "code",
   "execution_count": null,
   "metadata": {
    "collapsed": false
   },
   "outputs": [],
   "source": [
    "def powerSum(x, n):\n",
    "    \n",
    "    j = 0\n",
    "    for i in range(0, x+1):\n",
    "        if pow(i,n) == x:\n",
    "            j = i\n",
    "            break\n",
    "        elif pow(i, n) > x:\n",
    "            j = i\n",
    "            break\n",
    "            \n",
    "    print(j)\n",
    "    \n",
    "    \n",
    "    \n",
    "powerSum(160, 2)"
   ]
  },
  {
   "cell_type": "markdown",
   "metadata": {
    "collapsed": true
   },
   "source": [
    "## [Map and Lambda Function](https://www.hackerrank.com/challenges/map-and-lambda-expression)"
   ]
  },
  {
   "cell_type": "code",
   "execution_count": null,
   "metadata": {
    "collapsed": true
   },
   "outputs": [],
   "source": [
    "cube = lambda x: x ** 3\n",
    "\n",
    "def fib(x):\n",
    "    if x==1:\n",
    "        return 0\n",
    "    if x == 2:\n",
    "        return 1\n",
    "    return fib(x-1) + fib(x-2)\n",
    "\n",
    "def fib_cube_list(n):\n",
    "    # return a list of fibonacci numbers\n",
    "    fib_lst = []\n",
    "\n",
    "    if n == 1:\n",
    "        fib_lst.append(0)\n",
    "    else:\n",
    "        for i in range(1, n+1):\n",
    "            fib_lst.append(fib(i))\n",
    "    return list(map(cube, fib_lst))    "
   ]
  },
  {
   "cell_type": "code",
   "execution_count": null,
   "metadata": {
    "collapsed": false
   },
   "outputs": [],
   "source": [
    "fib_cube_list(5)"
   ]
  },
  {
   "cell_type": "markdown",
   "metadata": {
    "collapsed": true
   },
   "source": [
    "## [Validating Email Addresses With a Filter](https://www.hackerrank.com/challenges/validate-list-of-email-address-with-filter?utm_campaign=challenge-recommendation&utm_medium=email&utm_source=24-hour-campaign)"
   ]
  },
  {
   "cell_type": "code",
   "execution_count": null,
   "metadata": {
    "collapsed": false
   },
   "outputs": [],
   "source": [
    "def filters(s):\n",
    "    \n",
    "    try:\n",
    "        username, web = s.split('@') \n",
    "        websitename, extension = web.split('.')\n",
    "    except:\n",
    "        return False\n",
    "    \n",
    "    if not username.replace('-', '').replace('_', '').isalnum():\n",
    "        return False\n",
    "    if not websitename.isalnum():\n",
    "        return False\n",
    "    if len(extension) > 3:\n",
    "        return False\n",
    "    return True\n",
    "    ## I like the following one from user alokgupta201414\n",
    "    \"\"\"\n",
    "    import re\n",
    "    a = re.match(r'[a-zA-Z0-9_-]+@[a-zA-Z0-9]+\\.[a-zA-Z]{1,3}$',s)\n",
    "    return a\n",
    "    \"\"\"\n",
    "def filter_mail(emails):\n",
    "    return list(filter(filters, emails))\n",
    "\n",
    "if __name__ == \"__main__\":\n",
    "    n = int(input())\n",
    "    emails = []\n",
    "    for _ in range(n):\n",
    "        emails.append(input())\n",
    "        \n",
    "filtered_emails = filter_mail(emails)\n",
    "filtered_emails.sort()\n",
    "print(filtered_emails)"
   ]
  },
  {
   "cell_type": "markdown",
   "metadata": {},
   "source": [
    "## [Reduce Function](https://www.hackerrank.com/challenges/reduce-function?h_r=next-challenge&h_v=zen)"
   ]
  },
  {
   "cell_type": "code",
   "execution_count": null,
   "metadata": {
    "collapsed": false
   },
   "outputs": [],
   "source": [
    "from fractions import Fraction  #, gcd\n",
    "from functools import reduce\n",
    "fracs = [ Fraction(1,2),  Fraction(3,4),  Fraction(10,6)]\n",
    "\n",
    "t = reduce(lambda x, y: x * y, fracs)\n",
    "print(t.numerator, t.denominator)"
   ]
  },
  {
   "cell_type": "markdown",
   "metadata": {},
   "source": [
    "## [Array Sum and Prod](https://www.hackerrank.com/challenges/np-sum-and-prod?h_r=next-challenge&h_v=zen)"
   ]
  },
  {
   "cell_type": "code",
   "execution_count": null,
   "metadata": {
    "collapsed": false
   },
   "outputs": [],
   "source": [
    "import numpy as np\n",
    "\n",
    "arr = np.array([[1,2], [3,4]])\n",
    "\n",
    "print(\"Sum of axis 0 is: {}\".format(np.sum(arr, axis = 0)))\n",
    "print(\"Sum of axis 1 is: {}\".format(np.sum(arr, axis = 1)))\n",
    "print(\"Sum of axis None is: {}\".format(np.sum(arr, axis = None)))\n",
    "print(\"Sum of default is: {}\".format(np.sum(arr)))"
   ]
  },
  {
   "cell_type": "code",
   "execution_count": null,
   "metadata": {
    "collapsed": false
   },
   "outputs": [],
   "source": [
    "print(\"Product of axis 0 is: {}\".format(np.prod(arr, axis = 0)))\n",
    "print(\"Product of axis 1 is: {}\".format(np.prod(arr, axis = 1)))\n",
    "print(\"Product of axis None is: {}\".format(np.prod(arr, axis = None)))\n",
    "print(\"Product of default is: {}\".format(np.prod(arr)))"
   ]
  },
  {
   "cell_type": "markdown",
   "metadata": {},
   "source": [
    "## [Counting Valleys](https://www.hackerrank.com/challenges/counting-valleys?h_r=next-challenge&h_v=zen)"
   ]
  },
  {
   "cell_type": "code",
   "execution_count": null,
   "metadata": {
    "collapsed": false
   },
   "outputs": [],
   "source": [
    "num = int(input())\n",
    "S = input()\n",
    "\n",
    "lst = []\n",
    "value = 0\n",
    "\n",
    "for s in S:\n",
    "    if s == 'U':\n",
    "        value += 1\n",
    "    if s == 'D':\n",
    "        value -= 1\n",
    "        \n",
    "    if value == 0:\n",
    "        lst.append(None)\n",
    "    elif value < 0 :\n",
    "        lst.append(True)\n",
    "    else:\n",
    "        lst.append(False)\n",
    "\n",
    "valley = 0 \n",
    "prior_value = None\n",
    "for item in lst:\n",
    "    if item and prior_value is None:\n",
    "        valley += 1\n",
    "    prior_value = item\n",
    "print(valley) \n",
    "\n",
    "\"\"\"\n",
    "Sample Input:\n",
    "8\n",
    "UDDDUDUU\n",
    "\n",
    "Sample Output:\n",
    "1\n",
    "\"\"\"\n",
    "\n",
    "\"\"\"\n",
    "N=int(input())\n",
    "S=input()\n",
    "\n",
    "curr_val = 0\n",
    "pre_val = 0\n",
    "num_valley = 0\n",
    "for s in S:\n",
    "\n",
    "    if s == 'U':\n",
    "        curr_val += 1\n",
    "    else:\n",
    "        curr_val -= 1\n",
    "    \n",
    "    if curr_val < 0 and pre_val == 0:\n",
    "        num_valley += 1\n",
    "    pre_val = curr_val\n",
    "\n",
    "print(num_valley)\n",
    "\"\"\""
   ]
  },
  {
   "cell_type": "markdown",
   "metadata": {},
   "source": [
    "## [Cut the sticks](https://www.hackerrank.com/challenges/cut-the-sticks?utm_campaign=challenge-recommendation&utm_medium=email&utm_source=3-day-campaign)"
   ]
  },
  {
   "cell_type": "code",
   "execution_count": null,
   "metadata": {
    "collapsed": false
   },
   "outputs": [],
   "source": [
    "import sys\n",
    "\n",
    "\n",
    "n = int(input().strip())\n",
    "arr = [int(arr_temp) for arr_temp in input().strip().split(' ')]\n",
    "\n",
    "while len(arr) >0 :\n",
    "    print(len(arr))\n",
    "    arr = [item - min(arr) for item in arr]\n",
    "    arr = [item for item in arr if item != 0]"
   ]
  },
  {
   "cell_type": "markdown",
   "metadata": {},
   "source": [
    "## [Chocolate Feast](https://www.hackerrank.com/challenges/chocolate-feast?utm_campaign=challenge-recommendation&utm_medium=email&utm_source=24-hour-campaign)"
   ]
  },
  {
   "cell_type": "code",
   "execution_count": 13,
   "metadata": {
    "collapsed": false
   },
   "outputs": [
    {
     "name": "stdout",
     "output_type": "stream",
     "text": [
      "1\n",
      "43203 60 5\n",
      "899\n"
     ]
    }
   ],
   "source": [
    "import sys\n",
    "\n",
    "\n",
    "t = int(input().strip())\n",
    "for a0 in range(t):\n",
    "    n,c,m = input().strip().split(' ')\n",
    "    n,c,m = [int(n),int(c),int(m)]\n",
    "    \n",
    "    x = n // c\n",
    "    total = x\n",
    "    while (x // m) > 0:\n",
    "        total  += x // m\n",
    "        x = (x // m) + (x % m)\n",
    "    print(total)\n",
    "    \n",
    "        \n",
    "## 1\n",
    "## 43203 60 5   -- return 899 "
   ]
  },
  {
   "cell_type": "code",
   "execution_count": 8,
   "metadata": {
    "collapsed": false
   },
   "outputs": [
    {
     "name": "stdout",
     "output_type": "stream",
     "text": [
      "5\n"
     ]
    }
   ],
   "source": [
    "print(5)"
   ]
  },
  {
   "cell_type": "markdown",
   "metadata": {},
   "source": [
    "## [Service Lane](https://www.hackerrank.com/challenges/service-lane?utm_campaign=challenge-recommendation&utm_medium=email&utm_source=3-day-campaign)"
   ]
  },
  {
   "cell_type": "code",
   "execution_count": 1,
   "metadata": {
    "collapsed": false
   },
   "outputs": [
    {
     "name": "stdout",
     "output_type": "stream",
     "text": [
      "8 5\n",
      "2 3 1 2 3 2 3 3\n",
      "0 3\n",
      "1\n",
      "4 6\n",
      "2\n",
      "3 6\n",
      "2\n",
      "2 5\n",
      "1\n",
      "1 6\n",
      "1\n"
     ]
    }
   ],
   "source": [
    "n,t = input().strip().split(' ')\n",
    "n,t = [int(n),int(t)]\n",
    "width = [int(width_temp) for width_temp in input().strip().split(' ')]\n",
    "for a0 in range(t):\n",
    "    i,j = input().strip().split(' ')\n",
    "    i,j = [int(i),int(j)]\n",
    "    print(min(width[i:j+1]))\n"
   ]
  },
  {
   "cell_type": "code",
   "execution_count": null,
   "metadata": {
    "collapsed": true
   },
   "outputs": [],
   "source": []
  }
 ],
 "metadata": {
  "anaconda-cloud": {},
  "kernelspec": {
   "display_name": "Python [conda env:py35]",
   "language": "python",
   "name": "conda-env-py35-py"
  },
  "language_info": {
   "codemirror_mode": {
    "name": "ipython",
    "version": 3
   },
   "file_extension": ".py",
   "mimetype": "text/x-python",
   "name": "python",
   "nbconvert_exporter": "python",
   "pygments_lexer": "ipython3",
   "version": "3.5.2"
  }
 },
 "nbformat": 4,
 "nbformat_minor": 1
}

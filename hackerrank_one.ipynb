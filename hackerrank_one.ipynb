{
 "cells": [
  {
   "cell_type": "markdown",
   "metadata": {},
   "source": [
    "### Disclaimer: \n",
    "\n",
    "- All algorithm problems are from Hackerrank \n",
    "- The solutions provided by me might not be the best. "
   ]
  },
  {
   "cell_type": "markdown",
   "metadata": {},
   "source": [
    "## [Sock Merchant ](https://www.hackerrank.com/challenges/sock-merchant?utm_campaign=challenge-recommendation&utm_medium=email&utm_source=24-hour-campaign)"
   ]
  },
  {
   "cell_type": "code",
   "execution_count": 10,
   "metadata": {
    "collapsed": false
   },
   "outputs": [
    {
     "name": "stdout",
     "output_type": "stream",
     "text": [
      "10\n",
      "1 1 1 2 3 3 4 4 4 4\n",
      "4\n"
     ]
    }
   ],
   "source": [
    "import sys\n",
    "\n",
    "def sockMerchant(n, ar):\n",
    "    # Complete this function\n",
    "    result = 0\n",
    "    ar_set = set(ar)\n",
    "    \n",
    "    for item in ar_set:\n",
    "        cnt = 0\n",
    "        for i in range(n):\n",
    "            if ar[i] == item:\n",
    "                cnt += 1\n",
    "        result += cnt // 2\n",
    "    return result\n",
    "\n",
    "n = int(input().strip())\n",
    "ar = list(map(int, input().strip().split(' ')))\n",
    "result = sockMerchant(n, ar)\n",
    "print(result)"
   ]
  },
  {
   "cell_type": "markdown",
   "metadata": {},
   "source": [
    "## [Grading Students](https://www.hackerrank.com/challenges/grading)"
   ]
  },
  {
   "cell_type": "code",
   "execution_count": 12,
   "metadata": {
    "collapsed": false
   },
   "outputs": [
    {
     "name": "stdout",
     "output_type": "stream",
     "text": [
      "4\n",
      "73\n",
      "67\n",
      "38\n",
      "33\n",
      "75\n",
      "67\n",
      "40\n",
      "33\n"
     ]
    }
   ],
   "source": [
    "#!/bin/python3\n",
    "\n",
    "import sys\n",
    "\n",
    "def solve(grades):\n",
    "    # Complete this function\n",
    "    for i in range(len(grades)):\n",
    "        if grades[i] < 38:\n",
    "            continue\n",
    "        else:\n",
    "            if 5 - (grades[i] % 5) < 3:\n",
    "                old_grade = grades[i]\n",
    "                grades[i] = old_grade + 5 - (old_grade % 5)\n",
    "            else:\n",
    "                continue\n",
    "    return grades\n",
    "n = int(input().strip())\n",
    "grades = []\n",
    "grades_i = 0\n",
    "for grades_i in range(n):\n",
    "   grades_t = int(input().strip())\n",
    "   grades.append(grades_t)\n",
    "result = solve(grades)\n",
    "print (\"\\n\".join(map(str, result)))"
   ]
  },
  {
   "cell_type": "markdown",
   "metadata": {},
   "source": [
    "## [Breaking the Records](https://www.hackerrank.com/challenges/breaking-best-and-worst-records?h_r=next-challenge&h_v=zen)"
   ]
  },
  {
   "cell_type": "code",
   "execution_count": null,
   "metadata": {
    "collapsed": true
   },
   "outputs": [],
   "source": [
    "#!/bin/python3\n",
    "\n",
    "import sys\n",
    "\n",
    "def getRecord(s):\n",
    "    # Complete this function\n",
    "    max_s = None\n",
    "    min_s = None\n",
    "    max_breaks = 0\n",
    "    min_breaks = 0\n",
    "    for num in s:\n",
    "        \n",
    "        if max_s is None :\n",
    "            max_s = num\n",
    "        elif num > max_s:\n",
    "            max_s = num\n",
    "            max_breaks += 1\n",
    "\n",
    "        if min_s is None:\n",
    "            min_s = num\n",
    "        elif num < min_s:\n",
    "            min_s = num\n",
    "            min_breaks += 1\n",
    "    return max_breaks, min_breaks\n",
    "\n",
    "n = int(input().strip())\n",
    "s = list(map(int, input().strip().split(' ')))\n",
    "result = getRecord(s)\n",
    "print (\" \".join(map(str, result)))"
   ]
  },
  {
   "cell_type": "code",
   "execution_count": null,
   "metadata": {
    "collapsed": true
   },
   "outputs": [],
   "source": []
  },
  {
   "cell_type": "code",
   "execution_count": null,
   "metadata": {
    "collapsed": true
   },
   "outputs": [],
   "source": []
  },
  {
   "cell_type": "code",
   "execution_count": null,
   "metadata": {
    "collapsed": true
   },
   "outputs": [],
   "source": []
  },
  {
   "cell_type": "code",
   "execution_count": null,
   "metadata": {
    "collapsed": true
   },
   "outputs": [],
   "source": []
  },
  {
   "cell_type": "code",
   "execution_count": null,
   "metadata": {
    "collapsed": true
   },
   "outputs": [],
   "source": []
  },
  {
   "cell_type": "code",
   "execution_count": null,
   "metadata": {
    "collapsed": true
   },
   "outputs": [],
   "source": []
  },
  {
   "cell_type": "code",
   "execution_count": null,
   "metadata": {
    "collapsed": true
   },
   "outputs": [],
   "source": []
  },
  {
   "cell_type": "code",
   "execution_count": null,
   "metadata": {
    "collapsed": true
   },
   "outputs": [],
   "source": []
  }
 ],
 "metadata": {
  "anaconda-cloud": {},
  "kernelspec": {
   "display_name": "Python [conda env:py35]",
   "language": "python",
   "name": "conda-env-py35-py"
  },
  "language_info": {
   "codemirror_mode": {
    "name": "ipython",
    "version": 3
   },
   "file_extension": ".py",
   "mimetype": "text/x-python",
   "name": "python",
   "nbconvert_exporter": "python",
   "pygments_lexer": "ipython3",
   "version": "3.5.2"
  }
 },
 "nbformat": 4,
 "nbformat_minor": 1
}

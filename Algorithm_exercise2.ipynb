{
 "cells": [
  {
   "cell_type": "markdown",
   "metadata": {},
   "source": [
    "It's time to show off what you've learned about technical interviewing!\n",
    "\n",
    "For this project, you will be given five technical interviewing questions on a variety of topics discussed in the technical interviewing course. You should write up a clean and efficient answer in Python, as well as a text explanation of the efficiency of your code and your design choices. A qualified reviewer will look over your answer and give you feedback on anything that might be awesome or lacking—is your solution the most efficient one possible? Are you doing a good job of explaining your thoughts? Is your code elegant and easy to read?\n"
   ]
  },
  {
   "cell_type": "markdown",
   "metadata": {},
   "source": [
    "### Question 1\n",
    "Given two strings s and t, determine whether some anagram of t is a substring of s. For example: if s = \"udacity\" and t = \"ad\", then the function returns True. Your function definition should look like: question1(s, t) and return a boolean True or False.\n"
   ]
  },
  {
   "cell_type": "code",
   "execution_count": 1,
   "metadata": {
    "collapsed": false
   },
   "outputs": [],
   "source": [
    "# define a helper function to build a dictionary\n",
    "\n",
    "def build_dict(string):\n",
    "    \n",
    "    char_dict = {}\n",
    "    \n",
    "    for char in string:\n",
    "        if char in char_dict:\n",
    "            char_dict[char] += 1\n",
    "        else:\n",
    "            char_dict[char] = 1\n",
    "            \n",
    "    return char_dict\n",
    "\n",
    "def question1(s, t):\n",
    "    \n",
    "    t_len = len(t)\n",
    "    s_len = len(s)\n",
    "    \n",
    "    t_dict = build_dict(t)\n",
    "    \n",
    "    for i in range(s_len - t_len + 1):\n",
    "        \n",
    "        if build_dict(s[i:i+t_len]) == t_dict:\n",
    "            \n",
    "            return True\n",
    "        \n",
    "    return False"
   ]
  },
  {
   "cell_type": "code",
   "execution_count": 2,
   "metadata": {
    "collapsed": false
   },
   "outputs": [
    {
     "data": {
      "text/plain": [
       "False"
      ]
     },
     "execution_count": 2,
     "metadata": {},
     "output_type": "execute_result"
    }
   ],
   "source": [
    "# test case 1:  \n",
    "# should return False\n",
    "\n",
    "question1('scilent', 'listen')"
   ]
  },
  {
   "cell_type": "code",
   "execution_count": 3,
   "metadata": {
    "collapsed": false
   },
   "outputs": [
    {
     "data": {
      "text/plain": [
       "True"
      ]
     },
     "execution_count": 3,
     "metadata": {},
     "output_type": "execute_result"
    }
   ],
   "source": [
    "# test case 2:  \n",
    "# should return True \n",
    "\n",
    "question1('udacity', 'ad')"
   ]
  },
  {
   "cell_type": "code",
   "execution_count": 4,
   "metadata": {
    "collapsed": false
   },
   "outputs": [
    {
     "data": {
      "text/plain": [
       "True"
      ]
     },
     "execution_count": 4,
     "metadata": {},
     "output_type": "execute_result"
    }
   ],
   "source": [
    "# test case 4:  \n",
    "# should return True\n",
    "\n",
    "question1('astronomer', 'moon')"
   ]
  },
  {
   "cell_type": "code",
   "execution_count": 5,
   "metadata": {
    "collapsed": false
   },
   "outputs": [
    {
     "data": {
      "text/plain": [
       "False"
      ]
     },
     "execution_count": 5,
     "metadata": {},
     "output_type": "execute_result"
    }
   ],
   "source": [
    "# test case 3:  \n",
    "# should return False\n",
    "\n",
    "question1('ad','Udacity')"
   ]
  },
  {
   "cell_type": "code",
   "execution_count": 6,
   "metadata": {
    "collapsed": false
   },
   "outputs": [
    {
     "data": {
      "text/plain": [
       "False"
      ]
     },
     "execution_count": 6,
     "metadata": {},
     "output_type": "execute_result"
    }
   ],
   "source": [
    "question1('astronomer', 'month')"
   ]
  },
  {
   "cell_type": "markdown",
   "metadata": {},
   "source": [
    "### Question 2\n",
    "Given a string a, find the longest palindromic substring contained in a. Your function definition should look like question2(a), and return a string."
   ]
  },
  {
   "cell_type": "code",
   "execution_count": 7,
   "metadata": {
    "collapsed": true
   },
   "outputs": [],
   "source": [
    "## My Older Version\n",
    "def question2(a):\n",
    "    \n",
    "    n = len(a)\n",
    "    if n < 2:\n",
    "        return None\n",
    "    \n",
    "    # reverse string a\n",
    "    a_ = a[::-1]\n",
    "    longest_palindromic = None\n",
    "    length = 1\n",
    "    \n",
    "    # slice and compare the substring from the original and reversed string\n",
    "    # keep the longest string\n",
    "    for i in range(0, n):\n",
    "        for j in range(i + 1, n+1) :\n",
    "            if a[i:j] == a_[n-j:n-i] and len(a[i:j].strip(' ')) > length:\n",
    "                length = len(a[i:j])\n",
    "                longest_palindromic= a[i:j]\n",
    "    return longest_palindromic"
   ]
  },
  {
   "cell_type": "code",
   "execution_count": 8,
   "metadata": {
    "collapsed": false
   },
   "outputs": [
    {
     "data": {
      "text/plain": [
       "'abcbabcba'"
      ]
     },
     "execution_count": 8,
     "metadata": {},
     "output_type": "execute_result"
    }
   ],
   "source": [
    "# test case 1:  \n",
    "# should return 'abccba'\n",
    "question2('babcbabcbaccba')"
   ]
  },
  {
   "cell_type": "code",
   "execution_count": null,
   "metadata": {
    "collapsed": true
   },
   "outputs": [],
   "source": []
  },
  {
   "cell_type": "code",
   "execution_count": 9,
   "metadata": {
    "collapsed": false
   },
   "outputs": [],
   "source": [
    "# Manacher's algorithm\n",
    "\n",
    "def question2(a):\n",
    "    \n",
    "    N = len(a)\n",
    "    if N == 0:\n",
    "        return\n",
    "    \n",
    "    ps = ['#']\n",
    "    for s in list(a):\n",
    "        ps.append(s)\n",
    "        ps.append('#')\n",
    "    \n",
    "    N = len(ps)\n",
    "    L = [0] * N\n",
    "    \n",
    "    C = 0     # center position\n",
    "    R = 0     # center right position\n",
    "\n",
    "    mirror = 0     # current left position\n",
    "    maxLPSLength = 0\n",
    "    maxLPSCenterPosition = 0\n",
    "\n",
    "  \n",
    "    for i in range(N):\n",
    "      \n",
    "        # get current left position mirror for current right position i\n",
    "        mirror = 2*C-i\n",
    "\n",
    "        # If current right position i is within center right position R\n",
    "        if i < R:\n",
    "            L[i] = min(L[mirror], R - i)\n",
    "  \n",
    "        # Attempt to expand palindrome at the center i\n",
    "        # we compare characters and if match then increment LPS Length by ONE\n",
    "\n",
    "        while ((i + 1 + L[i]) < N and ps[ i + (1 + L[i])] == ps[i - (1 + L[i])]):\n",
    "                L[i]+=1\n",
    "        \n",
    "        if L[i] > maxLPSLength:        # Track maxLPSLength\n",
    "            maxLPSLength = L[i]\n",
    "            maxLPSCenterPosition = i\n",
    "  \n",
    "        # If palindrome centered at current right position i\n",
    "        # expand beyond center right position R,\n",
    "        # adjust center position C based on expanded palindrome.\n",
    "        if i + L[i] > R:\n",
    "            C = i\n",
    "            R = i + L[i]\n",
    "  \n",
    "    # return LPS \n",
    "    start = int((maxLPSCenterPosition - maxLPSLength) / 2)\n",
    "    end = int(start + maxLPSLength)\n",
    "    return a[start:end]"
   ]
  },
  {
   "cell_type": "code",
   "execution_count": 10,
   "metadata": {
    "collapsed": false
   },
   "outputs": [
    {
     "data": {
      "text/plain": [
       "'abcbabcba'"
      ]
     },
     "execution_count": 10,
     "metadata": {},
     "output_type": "execute_result"
    }
   ],
   "source": [
    "# test case 1:  \n",
    "# should return 'abccba'\n",
    "question2('babcbabcbaccba')"
   ]
  },
  {
   "cell_type": "code",
   "execution_count": 11,
   "metadata": {
    "collapsed": false
   },
   "outputs": [
    {
     "data": {
      "text/plain": [
       "'ggtttttgg'"
      ]
     },
     "execution_count": 11,
     "metadata": {},
     "output_type": "execute_result"
    }
   ],
   "source": [
    "# test case 2:  \n",
    "# should return 'ggtttttgg'\n",
    "\n",
    "question2('acgactagctaggggtttttgg')"
   ]
  },
  {
   "cell_type": "code",
   "execution_count": 12,
   "metadata": {
    "collapsed": false
   },
   "outputs": [
    {
     "data": {
      "text/plain": [
       "'abcdefggfedcba'"
      ]
     },
     "execution_count": 12,
     "metadata": {},
     "output_type": "execute_result"
    }
   ],
   "source": [
    "# test case 3:  \n",
    "# should return 'abcdefggfedcba'\n",
    "\n",
    "question2('acgactagctaggggtttttgg          abcdefggfedcbahitklfhhishsh  ')"
   ]
  },
  {
   "cell_type": "markdown",
   "metadata": {},
   "source": [
    "### Question 3\n",
    "Given an undirected graph G, find the minimum spanning tree within G. A minimum spanning tree connects all vertices in a graph with the smallest possible total weight of edges. Your function should take in and return an adjacency list structured like this:\n",
    "\n",
    "{'A': [('B', 2)],\n",
    " 'B': [('A', 2), ('C', 5)], \n",
    " 'C': [('B', 5)]}\n",
    "Vertices are represented as unique strings. The function definition should be question3(G)"
   ]
  },
  {
   "cell_type": "code",
   "execution_count": 13,
   "metadata": {
    "collapsed": false
   },
   "outputs": [],
   "source": [
    "def find(parent, i):\n",
    "    if parent[i] == i:\n",
    "        return i\n",
    "    return find(parent, parent[i])\n",
    " \n",
    "# A function that does union of two sets of x and y\n",
    "# (uses union by rank)\n",
    "def union(parent, rank, x, y):\n",
    "    xroot = find(parent, x)\n",
    "    yroot = find(parent, y)\n",
    " \n",
    "    # Attach smaller rank tree under root of high rank tree\n",
    "    # (Union by Rank)\n",
    "    if rank[xroot] < rank[yroot]:\n",
    "        parent[xroot] = yroot\n",
    "    elif rank[xroot] > rank[yroot]:\n",
    "        parent[yroot] = xroot\n",
    "        \n",
    "    # If ranks are same, then make one as root and increment\n",
    "    # its rank by one\n",
    "    else :\n",
    "        parent[yroot] = xroot\n",
    "        rank[xroot] += 1\n",
    "\n",
    "def question3(G):\n",
    "    \n",
    "    dct = {}\n",
    "    rank = {}\n",
    "    parent = {}\n",
    "    cnt = 0\n",
    "    \n",
    "    for k in sorted(G.keys()):\n",
    "        parent[k] = k\n",
    "        rank[k] = 0\n",
    "        \n",
    "        for tp in G[k]:\n",
    "            t = tp[0]\n",
    "            w = tp[1]\n",
    "            if (t, k) in dct.keys():\n",
    "                break                \n",
    "            else:\n",
    "                if w == None or w == '':\n",
    "                    cnt += 1\n",
    "                    break\n",
    "                else:\n",
    "                    dct[(k, t)] = w\n",
    "\n",
    "    edges = []\n",
    "    for k, w in sorted(dct.items(), key=lambda x: (x[1], x[0])):\n",
    "        edges.append((k[0], k[1], w))\n",
    "        \n",
    "    i = 0\n",
    "    e = 0 \n",
    "\n",
    "    mini_spanning_tree = {}\n",
    "    while e < len(parent) -1 -cnt:\n",
    "        \n",
    "        u , v, w = edges[i]\n",
    "        i += 1\n",
    "        \n",
    "        x = find(parent, u)\n",
    "        y = find(parent, v)\n",
    "        \n",
    "        if x != y:\n",
    "            e += 1\n",
    "            if u in mini_spanning_tree:\n",
    "                mini_spanning_tree[u].append((v,w))\n",
    "            else:\n",
    "                mini_spanning_tree[u] = [(v, w)]\n",
    "\n",
    "            union(parent, rank, x, y)\n",
    "            \n",
    "    return mini_spanning_tree"
   ]
  },
  {
   "cell_type": "code",
   "execution_count": 14,
   "metadata": {
    "collapsed": false
   },
   "outputs": [
    {
     "data": {
      "text/plain": [
       "{'A': [('B', 2)], 'C': [('B', 5)]}"
      ]
     },
     "execution_count": 14,
     "metadata": {},
     "output_type": "execute_result"
    }
   ],
   "source": [
    "# test case 1\n",
    "G ={'A': [('B', 2)], 'B': [('A', 2), ('C', 5)], 'C': [('B', 5)]}\n",
    "question3(G) "
   ]
  },
  {
   "cell_type": "code",
   "execution_count": 15,
   "metadata": {
    "collapsed": false
   },
   "outputs": [
    {
     "data": {
      "text/plain": [
       "{'A': [('D', 5), ('B', 10)], 'D': [('C', 4)], 'E': [('B', 15)]}"
      ]
     },
     "execution_count": 15,
     "metadata": {},
     "output_type": "execute_result"
    }
   ],
   "source": [
    "# test case 2\n",
    "G ={'A': [('B', 10), ('C', 6), ('D', 5)], 'B': [('A', 10),('E', 15)], 'C': [('A',6),('D', 4)],'D': [('C', 4)], 'E':[('B',15)]}\n",
    "question3(G) "
   ]
  },
  {
   "cell_type": "code",
   "execution_count": 16,
   "metadata": {
    "collapsed": false
   },
   "outputs": [
    {
     "data": {
      "text/plain": [
       "{'A': [('D', 5), ('C', 6), ('B', 10)], 'E': [('D', 15)]}"
      ]
     },
     "execution_count": 16,
     "metadata": {},
     "output_type": "execute_result"
    }
   ],
   "source": [
    "# test case 3\n",
    "G ={'A': [('B', 10), ('C', 6), ('D', 5)], 'B': [('A', 10)], 'C': [('A', 6)], 'D':[('A', 5),('E', 15)], 'E':[('D', 15)]}\n",
    "question3(G)   "
   ]
  },
  {
   "cell_type": "code",
   "execution_count": 17,
   "metadata": {
    "collapsed": false
   },
   "outputs": [
    {
     "data": {
      "text/plain": [
       "{'A': [('D', 5), ('C', 6), ('B', 10)]}"
      ]
     },
     "execution_count": 17,
     "metadata": {},
     "output_type": "execute_result"
    }
   ],
   "source": [
    "# test case 4\n",
    "G ={'A': [('B', 10), ('C', 6), ('D', 5)], 'B': [('A', 10)], 'C': [('A', 6)], 'D':[('A', 5),('E', None)], 'E':[('D', None)]}\n",
    "question3(G) "
   ]
  },
  {
   "cell_type": "markdown",
   "metadata": {},
   "source": [
    "### Question 4\n",
    "Find the least common ancestor between two nodes on a [binary search tree](http://stackoverflow.com/questions/39792507/how-can-i-tell-if-this-matrix-is-a-binary-search-tree-or-binary-tree/39801807#39801807). The least common ancestor is the farthest node from the root that is an ancestor of both nodes. For example, the root is a common ancestor of all nodes on the tree, but if both nodes are descendents of the root's left child, then that left child might be the lowest common ancestor. You can assume that both nodes are in the tree, and the tree itself adheres to all BST properties. The function definition should look like question4(T, r, n1, n2), where T is the tree represented as a matrix, where the index of the list is equal to the integer stored in that node and a 1 represents a child node, r is a non-negative integer representing the root, and n1 and n2 are non-negative integers representing the two nodes in no particular order. For example, one test case might be\n",
    "\n",
    "question4([[0, 1, 0, 0, 0],\n",
    "           [0, 0, 0, 0, 0],\n",
    "           [0, 0, 0, 0, 0],\n",
    "           [1, 0, 0, 0, 1],\n",
    "           [0, 0, 0, 0, 0]],\n",
    "          3,\n",
    "          1,\n",
    "          4)\n",
    "and the answer would be 3.\n"
   ]
  },
  {
   "cell_type": "code",
   "execution_count": 18,
   "metadata": {
    "collapsed": true
   },
   "outputs": [],
   "source": [
    "def question4(T, r, n1, n2):\n",
    " \n",
    "    # find the ancestors of n1 node and save its ancestors in a list\n",
    "    n1_parent = []\n",
    "    while T[:,n1].sum() == 1:\n",
    "        for row in range(len(T)):\n",
    "            if T[row][n1] == 1:\n",
    "                n1 = row\n",
    "                n1_parent.append(n1)\n",
    "\n",
    "    # find the ancestors of n2 node and save its ancestors in a list\n",
    "    n2_parent = []\n",
    "    while T[:,n2].sum() == 1:\n",
    "        for row in range(len(T)):\n",
    "            if T[row][n2] == 1:\n",
    "                n2 = row\n",
    "                n2_parent.append(n2)\n",
    "\n",
    "    # loop through the list and pick the first element            \n",
    "    for p in n1_parent:\n",
    "        if p in n2_parent:\n",
    "            return p\n",
    "        \n",
    "    # if no common element return None\n",
    "    return None"
   ]
  },
  {
   "cell_type": "code",
   "execution_count": 19,
   "metadata": {
    "collapsed": false
   },
   "outputs": [
    {
     "data": {
      "text/plain": [
       "3"
      ]
     },
     "execution_count": 19,
     "metadata": {},
     "output_type": "execute_result"
    }
   ],
   "source": [
    "# test case 1:  \n",
    "# should return 3\n",
    "\n",
    "import numpy as np\n",
    "\n",
    "x = np.array([[0, 1, 0, 0], [0, 0, 0, 0], [0, 0, 0, 0], [1, 0, 1, 0]])\n",
    "\n",
    "question4(x, 3, 1, 2) "
   ]
  },
  {
   "cell_type": "code",
   "execution_count": 20,
   "metadata": {
    "collapsed": false
   },
   "outputs": [
    {
     "data": {
      "text/plain": [
       "3"
      ]
     },
     "execution_count": 20,
     "metadata": {},
     "output_type": "execute_result"
    }
   ],
   "source": [
    "# test case 2:  \n",
    "# should return 3\n",
    "\n",
    "import numpy as np\n",
    "\n",
    "x = np.array([[0, 1, 0, 0, 0], [0, 0, 0, 0, 0], [0, 0, 0, 0, 0], [1, 0, 0, 0, 1], [0, 0, 0, 0, 0]])\n",
    "\n",
    "question4(x, 3, 1, 4) "
   ]
  },
  {
   "cell_type": "code",
   "execution_count": 21,
   "metadata": {
    "collapsed": false
   },
   "outputs": [
    {
     "data": {
      "text/plain": [
       "0"
      ]
     },
     "execution_count": 21,
     "metadata": {},
     "output_type": "execute_result"
    }
   ],
   "source": [
    "# test case 3:  \n",
    "# should return 0\n",
    "\n",
    "import numpy as np\n",
    "x = np.array([[0, 1, 0, 0, 0, 1], [0, 0, 1, 0, 0, 0], [0, 0, 0, 0, 0, 0], \n",
    "              [1, 0, 0, 0, 1, 0], [0, 0, 0, 0, 0, 0], [0, 0, 0, 0, 0, 0]])\n",
    "question4(x, 3, 2, 5)   "
   ]
  },
  {
   "cell_type": "markdown",
   "metadata": {},
   "source": [
    "### Question 5\n",
    "Find the element in a singly linked list that's m elements from the end. For example, if a linked list has 5 elements, the 3rd element from the end is the 3rd element. The function definition should look like question5(ll, m), where ll is the first node of a linked list and m is the \"mth number from the end\". You should copy/paste the Node class below to use as a representation of a node in the linked list. Return the value of the node at that position.\n",
    "\n",
    "class Node(object):\n",
    "  def __init__(self, data):\n",
    "    self.data = data\n",
    "    self.next = None"
   ]
  },
  {
   "cell_type": "code",
   "execution_count": 22,
   "metadata": {
    "collapsed": false
   },
   "outputs": [],
   "source": [
    "class LinkedList:\n",
    "    def __init__(self, head=None):\n",
    "        self.head = head\n",
    "\n",
    "    def append(self, new_node):\n",
    "        current = self.head\n",
    "        if self.head:\n",
    "            while current.next:\n",
    "                current = current.next\n",
    "            current.next = new_node\n",
    "        else:\n",
    "            self.head = new_node\n",
    "\n",
    "class Node(object): \n",
    "    def __init__(self, data): \n",
    "        self.data = data \n",
    "        self.next = None\n",
    "            \n",
    "\n",
    "def question5(ll, m):\n",
    "    \n",
    "    node_value_list = []\n",
    "    \n",
    "    # loop through the linked list and save each node's value in a list if the first node exists\n",
    "    if ll: \n",
    "        node_value_list.append(ll.data)\n",
    "        \n",
    "        current_node = ll\n",
    "        while current_node.next:\n",
    "            current_node = current_node.next\n",
    "            node_value_list.append(current_node.data)\n",
    "            \n",
    "    else:\n",
    "        return None\n",
    "\n",
    "    # make sure the m less than or equal to the length of the list\n",
    "    # pop out the last value m times and catch the m th element value and return it       \n",
    "    if m <= len(node_value_list):\n",
    "        for i in range(m):\n",
    "            x =  node_value_list.pop()\n",
    "        return x\n",
    "    else:\n",
    "        return None"
   ]
  },
  {
   "cell_type": "code",
   "execution_count": 23,
   "metadata": {
    "collapsed": false
   },
   "outputs": [
    {
     "name": "stdout",
     "output_type": "stream",
     "text": [
      "3\n"
     ]
    }
   ],
   "source": [
    "## test case 1\n",
    "## should return 3\n",
    "# Set up some Elements\n",
    "nd1 = Node(1)\n",
    "nd2 = Node(2)\n",
    "nd3 = Node(3)\n",
    "nd4 = Node(4)\n",
    "\n",
    "# Start setting up a LinkedList\n",
    "lkl = LinkedList(nd1)\n",
    "lkl.append(nd2)\n",
    "lkl.append(nd3)\n",
    "lkl.append(nd4)\n",
    "ll = nd1\n",
    "\n",
    "print(question5(ll, 2) )   "
   ]
  },
  {
   "cell_type": "code",
   "execution_count": 24,
   "metadata": {
    "collapsed": false
   },
   "outputs": [
    {
     "name": "stdout",
     "output_type": "stream",
     "text": [
      "20\n"
     ]
    }
   ],
   "source": [
    "## test case 2\n",
    "## should return 20\n",
    "# Set up some Elements\n",
    "nd1 = Node(4)\n",
    "nd2 = Node(7)\n",
    "nd3 = Node(8)\n",
    "nd4 = Node(10)\n",
    "nd5 = Node(20)\n",
    "nd6 = Node(30)\n",
    "\n",
    "# Start setting up a LinkedList\n",
    "lkl = LinkedList(nd1)\n",
    "lkl.append(nd2)\n",
    "lkl.append(nd3)\n",
    "lkl.append(nd4)\n",
    "lkl.append(nd5)\n",
    "lkl.append(nd6)\n",
    "\n",
    "ll = nd1\n",
    "\n",
    "print(question5(ll, 2) )   "
   ]
  },
  {
   "cell_type": "code",
   "execution_count": 25,
   "metadata": {
    "collapsed": false
   },
   "outputs": [
    {
     "name": "stdout",
     "output_type": "stream",
     "text": [
      "4\n"
     ]
    }
   ],
   "source": [
    "## test case 3\n",
    "## should return 4\n",
    "# Set up some Elements\n",
    "nd1 = Node(2)\n",
    "nd2 = Node(4)\n",
    "nd3 = Node(8)\n",
    "nd4 = Node(6)\n",
    "nd5 = Node(7)\n",
    "nd6 = Node(50)\n",
    "\n",
    "# Start setting up a LinkedList\n",
    "lkl = LinkedList(nd1)\n",
    "lkl.append(nd2)\n",
    "lkl.append(nd3)\n",
    "lkl.append(nd4)\n",
    "lkl.append(nd5)\n",
    "lkl.append(nd6)\n",
    "\n",
    "ll = nd1\n",
    "\n",
    "print(question5(ll,5) )   "
   ]
  },
  {
   "cell_type": "code",
   "execution_count": null,
   "metadata": {
    "collapsed": true
   },
   "outputs": [],
   "source": []
  }
 ],
 "metadata": {
  "anaconda-cloud": {},
  "kernelspec": {
   "display_name": "Python 3",
   "language": "python",
   "name": "python3"
  },
  "language_info": {
   "codemirror_mode": {
    "name": "ipython",
    "version": 3
   },
   "file_extension": ".py",
   "mimetype": "text/x-python",
   "name": "python",
   "nbconvert_exporter": "python",
   "pygments_lexer": "ipython3",
   "version": "3.6.0"
  }
 },
 "nbformat": 4,
 "nbformat_minor": 0
}
